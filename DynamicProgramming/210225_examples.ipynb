{
 "metadata": {
  "language_info": {
   "codemirror_mode": {
    "name": "ipython",
    "version": 3
   },
   "file_extension": ".py",
   "mimetype": "text/x-python",
   "name": "python",
   "nbconvert_exporter": "python",
   "pygments_lexer": "ipython3",
   "version": "3.7.6-final"
  },
  "orig_nbformat": 2,
  "kernelspec": {
   "name": "python3",
   "display_name": "Python 3.7.6 64-bit ('ai': venv)",
   "metadata": {
    "interpreter": {
     "hash": "4f3fdfe0a4e7e6900788532da68d4b6a3e997b86b26d022a391a65c8012e6535"
    }
   }
  }
 },
 "nbformat": 4,
 "nbformat_minor": 2,
 "cells": [
  {
   "source": [
    "# 210225"
   ],
   "cell_type": "markdown",
   "metadata": {}
  },
  {
   "source": [
    "## ants steal warehouse"
   ],
   "cell_type": "markdown",
   "metadata": {}
  },
  {
   "cell_type": "code",
   "execution_count": 2,
   "metadata": {},
   "outputs": [],
   "source": [
    "n = int(input())\n",
    "food = list(map(int, input().split(\" \")))"
   ]
  },
  {
   "cell_type": "code",
   "execution_count": 12,
   "metadata": {},
   "outputs": [],
   "source": [
    "total = 0\n",
    "def maxFood(i, total, food):\n",
    "    # i is an warehouse index for steeling\n",
    "    if i <= 0:\n",
    "        return total\n",
    "    if food[i] > food[i-1]:\n",
    "        total += food[i]\n",
    "        return maxFood(i-2, total, food)\n",
    "    else: # food[i-1] > food[i]\n",
    "        total += food[i-1]\n",
    "        return maxFood(i-1, total, food)"
   ]
  },
  {
   "cell_type": "code",
   "execution_count": 13,
   "metadata": {},
   "outputs": [
    {
     "output_type": "execute_result",
     "data": {
      "text/plain": [
       "8"
      ]
     },
     "metadata": {},
     "execution_count": 13
    }
   ],
   "source": [
    "maxFood(n-1, total, food)"
   ]
  },
  {
   "source": [
    "## make 1"
   ],
   "cell_type": "markdown",
   "metadata": {}
  },
  {
   "cell_type": "code",
   "execution_count": 27,
   "metadata": {},
   "outputs": [],
   "source": [
    "n = int(input())"
   ]
  },
  {
   "cell_type": "code",
   "execution_count": 32,
   "metadata": {},
   "outputs": [
    {
     "output_type": "stream",
     "name": "stdout",
     "text": [
      "answer: 3\n"
     ]
    }
   ],
   "source": [
    "d = [0]*(n+1)\n",
    "\n",
    "for i in range(2, n+1):\n",
    "    d[i] = d[i-1] + 1 # 1을 빼준 수가 더 빠른 결과를 가져올 수 있으므로 이를 감안\n",
    "    # caution! : i를 큰 수로 나누어주었다고해서 항상 좋은 결과를 보장하는 것이 아니고 모든 결과를 비교해야함 -> if로 모두 비교\n",
    "    if i%2 == 0: # 현재의 수가 2로 나누어 떨어진다면, d[i]가 최선의 방법인지 or 1을 빼었을 때 더 좋은 결과가 있는지 비교\n",
    "        d[i] = min(d[i], d[i//2]+1)\n",
    "    if i%3 == 0:\n",
    "        d[i] = min(d[i], d[i//3]+1)\n",
    "    if i%5 == 0:\n",
    "        d[i] = min(d[i], d[i//5]+1)\n",
    "\n",
    "print('answer: {}'.format(d[n]))\n",
    "\n"
   ]
  }
 ]
}