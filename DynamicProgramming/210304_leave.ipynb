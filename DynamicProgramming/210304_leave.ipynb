{
 "metadata": {
  "language_info": {
   "codemirror_mode": {
    "name": "ipython",
    "version": 3
   },
   "file_extension": ".py",
   "mimetype": "text/x-python",
   "name": "python",
   "nbconvert_exporter": "python",
   "pygments_lexer": "ipython3",
   "version": "3.6.9-final"
  },
  "orig_nbformat": 2,
  "kernelspec": {
   "name": "derain",
   "display_name": "derain",
   "language": "python"
  }
 },
 "nbformat": 4,
 "nbformat_minor": 2,
 "cells": [
  {
   "source": [
    "# Q 33 퇴사"
   ],
   "cell_type": "markdown",
   "metadata": {}
  },
  {
   "cell_type": "code",
   "execution_count": 32,
   "metadata": {},
   "outputs": [],
   "source": [
    "day = []\n",
    "pay = []\n",
    "n = int(input())\n",
    "for _ in range(int(n)):\n",
    "  a,b = map(int, input().split(\" \"))\n",
    "  day.append(a)\n",
    "  pay.append(b)\n",
    "\n"
   ]
  },
  {
   "source": [
    "### below codes are borrowed from 이것이 취업을 위한 코딩테스트다."
   ],
   "cell_type": "markdown",
   "metadata": {}
  },
  {
   "cell_type": "code",
   "execution_count": null,
   "metadata": {},
   "outputs": [],
   "source": [
    "dp = [0]*(n+1) # 다이나믹 프로그래밍을 위한 1차원 dp 테이블 초기화\n",
    "max_value = 0\n",
    "# 리스트를 뒤에서부터 거꾸로 확인\n",
    "for i in range(n-1, -1, -1):\n",
    "    time = day[i] + i\n",
    "    # 상담이 기간 안에 끝나는 경우\n",
    "    if time <= n:\n",
    "        # 점화식에 맞게 현재까지의 최고 이익 계산\n",
    "        dp[i] = max(pay[i]+dp[time], max_value)\n",
    "        max_value = dp[i]\n",
    "    \n",
    "    # 상담이 기간을 벗어나는 경우\n",
    "    else:\n",
    "        dp[i] = max_value\n",
    "\n",
    "print(max_value)\n",
    "        "
   ]
  }
 ]
}