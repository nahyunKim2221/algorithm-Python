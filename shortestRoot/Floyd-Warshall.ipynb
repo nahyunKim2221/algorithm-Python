{
 "cells": [
  {
   "cell_type": "markdown",
   "metadata": {},
   "source": [
    "# the problem from https://www.acmicpc.net/problem/11404"
   ]
  },
  {
   "cell_type": "code",
   "execution_count": 4,
   "metadata": {},
   "outputs": [],
   "source": [
    "INF = int(1e9)\n",
    "city = int(input())\n",
    "bus = int(input())\n",
    "graph = [[INF]*(city+1) for _ in range(city+1)]\n",
    "\n",
    "for i in range(1, city+1):\n",
    "    for j in range(1, city+1):\n",
    "        if i==j:\n",
    "            graph[i][j] = 0\n",
    "\n",
    "for _ in range(bus):\n",
    "    a, b, c = map(int, input().split(\" \"))\n",
    "    if graph[a][b] > c:\n",
    "        graph[a][b] = c\n",
    "\n",
    "for k in range(1, city+1):\n",
    "    for i in range(1, city+1):\n",
    "        for j in range(1, city+1):\n",
    "            graph[i][j] = min(graph[i][j], graph[i][k]+graph[k][j])"
   ]
  },
  {
   "cell_type": "code",
   "execution_count": 5,
   "metadata": {},
   "outputs": [
    {
     "output_type": "stream",
     "name": "stdout",
     "text": [
      "0 2 3 1 4 \n12 0 15 2 5 \n8 5 0 1 1 \n10 7 13 0 3 \n7 4 10 6 0 \n"
     ]
    }
   ],
   "source": [
    "for i in range(1, city+1):\n",
    "    for j in range(1, city+1):\n",
    "        if graph[i][j]==INF:\n",
    "            graph[i][j] = 0\n",
    "        print(graph[i][j], end=\" \")  \n",
    "    print()"
   ]
  },
  {
   "cell_type": "code",
   "execution_count": null,
   "metadata": {},
   "outputs": [],
   "source": []
  }
 ],
 "metadata": {
  "kernelspec": {
   "display_name": "ai",
   "language": "python",
   "name": "ai"
  },
  "language_info": {
   "codemirror_mode": {
    "name": "ipython",
    "version": 3
   },
   "file_extension": ".py",
   "mimetype": "text/x-python",
   "name": "python",
   "nbconvert_exporter": "python",
   "pygments_lexer": "ipython3",
   "version": "3.7.6-final"
  }
 },
 "nbformat": 4,
 "nbformat_minor": 4
}