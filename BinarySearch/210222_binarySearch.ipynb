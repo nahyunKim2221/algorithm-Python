{
 "cells": [
  {
   "cell_type": "markdown",
   "metadata": {},
   "source": [
    "# binary search"
   ]
  },
  {
   "cell_type": "code",
   "execution_count": 1,
   "metadata": {},
   "outputs": [],
   "source": [
    "n, m =4,6\n",
    "length = [19,15,10,17]\n"
   ]
  },
  {
   "cell_type": "code",
   "execution_count": 10,
   "metadata": {},
   "outputs": [],
   "source": [
    "def slice(n, m, length):\n",
    "    start = 0\n",
    "    end = max(length)\n",
    "    mid = (start+end)//2\n",
    "    \n",
    "    while (start<=end):\n",
    "        serve = list([leng - mid for leng in length])\n",
    "        serve = list(filter(lambda x: x>0, serve))  \n",
    "        serve = sum(serve)          \n",
    "        if serve < m:\n",
    "            end = mid-1\n",
    "        else:\n",
    "            start = mid+1\n",
    "        mid = (start+end)//2\n",
    "        \n",
    "        \n",
    "    return mid"
   ]
  },
  {
   "cell_type": "code",
   "execution_count": 11,
   "metadata": {},
   "outputs": [
    {
     "data": {
      "text/plain": [
       "15"
      ]
     },
     "execution_count": 11,
     "metadata": {},
     "output_type": "execute_result"
    }
   ],
   "source": [
    "slice(n,m,length)"
   ]
  }
 ],
 "metadata": {
  "kernelspec": {
   "display_name": "ai1",
   "language": "python",
   "name": "ai"
  },
  "language_info": {
   "codemirror_mode": {
    "name": "ipython",
    "version": 3
   },
   "file_extension": ".py",
   "mimetype": "text/x-python",
   "name": "python",
   "nbconvert_exporter": "python",
   "pygments_lexer": "ipython3",
   "version": "3.7.6"
  }
 },
 "nbformat": 4,
 "nbformat_minor": 4
}
