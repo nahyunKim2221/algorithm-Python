{
 "cells": [
  {
   "cell_type": "markdown",
   "metadata": {},
   "source": [
    "# install router"
   ]
  },
  {
   "cell_type": "markdown",
   "metadata": {},
   "source": [
    "## input"
   ]
  },
  {
   "cell_type": "code",
   "execution_count": 68,
   "metadata": {},
   "outputs": [
    {
     "name": "stdout",
     "output_type": "stream",
     "text": [
      "2 2\n",
      "4\n",
      "10\n"
     ]
    }
   ],
   "source": [
    "n, c = map(int,input().split(\" \"))\n",
    "x = []\n",
    "for _ in range(n):\n",
    "    x.append(int(input()))"
   ]
  },
  {
   "cell_type": "markdown",
   "metadata": {},
   "source": [
    "## binary search"
   ]
  },
  {
   "cell_type": "code",
   "execution_count": 69,
   "metadata": {},
   "outputs": [
    {
     "name": "stdout",
     "output_type": "stream",
     "text": [
      "6\n"
     ]
    }
   ],
   "source": [
    "x.sort()\n",
    "interval = []\n",
    "for i in range(n-1):\n",
    "    interval.append(int(x[i+1]-x[i]))\n",
    "start = 0\n",
    "end = max(x)\n",
    "mid = (start+end)//2\n",
    "result = 0\n",
    "\n",
    "while (start<=end):\n",
    "    count = 1\n",
    "    inters = 0\n",
    "    # count the number of routers\n",
    "    for inter in interval:\n",
    "        inters += inter\n",
    "        if inters >= mid:\n",
    "            count += 1\n",
    "            inters = 0\n",
    "    \n",
    "    # need more router\n",
    "    if count < c:\n",
    "        end = mid-1\n",
    "    # too much routers exist -> expand interval\n",
    "    else:\n",
    "        result = mid\n",
    "        start = mid+1\n",
    "    mid = (start+end)//2\n",
    "\n",
    "print(result)"
   ]
  },
  {
   "cell_type": "code",
   "execution_count": null,
   "metadata": {},
   "outputs": [],
   "source": []
  }
 ],
 "metadata": {
  "kernelspec": {
   "display_name": "ai1",
   "language": "python",
   "name": "ai"
  },
  "language_info": {
   "codemirror_mode": {
    "name": "ipython",
    "version": 3
   },
   "file_extension": ".py",
   "mimetype": "text/x-python",
   "name": "python",
   "nbconvert_exporter": "python",
   "pygments_lexer": "ipython3",
   "version": "3.7.6"
  }
 },
 "nbformat": 4,
 "nbformat_minor": 4
}
